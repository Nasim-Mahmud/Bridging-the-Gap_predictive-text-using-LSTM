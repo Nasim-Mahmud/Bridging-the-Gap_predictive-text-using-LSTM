{
  "nbformat": 4,
  "nbformat_minor": 0,
  "metadata": {
    "colab": {
      "provenance": [],
      "authorship_tag": "ABX9TyPBGOHmevT2CTfkUmbMQE5g",
      "include_colab_link": true
    },
    "kernelspec": {
      "name": "python3",
      "display_name": "Python 3"
    },
    "language_info": {
      "name": "python"
    }
  },
  "cells": [
    {
      "cell_type": "markdown",
      "metadata": {
        "id": "view-in-github",
        "colab_type": "text"
      },
      "source": [
        "<a href=\"https://colab.research.google.com/github/Nasim-Mahmud/LSTM-projects/blob/main/lstm_word_predictor.ipynb\" target=\"_parent\"><img src=\"https://colab.research.google.com/assets/colab-badge.svg\" alt=\"Open In Colab\"/></a>"
      ]
    },
    {
      "cell_type": "code",
      "execution_count": 201,
      "metadata": {
        "colab": {
          "base_uri": "https://localhost:8080/",
          "height": 140
        },
        "id": "w1-APtPco5nk",
        "outputId": "bad15723-e422-44b9-d2bd-84146328aa74"
      },
      "outputs": [
        {
          "output_type": "execute_result",
          "data": {
            "text/plain": [
              "'About the Program\\nWhat is the course fee for  Data Science Mentorship Program (DSMP 2023)\\nThe course follows a monthly subscription model where you have to make monthly payments of Rs 799/month.\\nWhat is the total duration of the course?\\nThe total duration of the course is 7 months. So the total course fee becomes 799*7 = Rs 5600(approx.)\\nWhat is the syllabus of the mentorship program?\\nWe will be covering the following modules:\\nPython Fundamentals\\nPython libraries for Data Science\\nData Analysis\\nSQL for Data Science\\nMaths for Machine Learning\\nML Algorithms\\nPractical ML\\nMLOPs\\nCase studies\\nYou can check the detailed syllabus here - https://learnwith.campusx.in/courses/CampusX-Data-Science-Mentorship-Program-637339afe4b0615a1bbed390\\nWill Deep Learning and NLP be a part of this program?\\nNo, NLP and Deep Learning both are not a part of this program’s curriculum.\\nWhat if I miss a live session? Will I get a recording of the session?\\nYes all our sessions are recorded, so even if you miss a session you can go back and watch the recording.\\nWhere can I find the class schedule?\\nCheckout this google sheet to see month by month time table of the course - https://docs.google.com/spreadsheets/d/16OoTax_A6ORAeCg4emgexhqqPv3noQPYKU7RJ6ArOzk/edit?usp=sharing.\\nWhat is the time duration of all the live sessions?\\nRoughly, all the sessions last 2 hours.\\nWhat is the language spoken by the instructor during the sessions?\\nHinglish\\nHow will I be informed about the upcoming class?\\nYou will get a mail from our side before every paid session once you become a paid user.\\nCan I do this course if I am from a non-tech background?\\nYes, absolutely.\\nI am late, can I join the program in the middle?\\nAbsolutely, you can join the program anytime.\\nIf I join/pay in the middle, will I be able to see all the past lectures?\\nYes, once you make the payment you will be able to see all the past content in your dashboard.\\nWhere do I have to submit the task?\\nYou don’t have to submit the task. We will provide you with the solutions, you have to self evaluate the task yourself.\\nWill we do case studies in the program?\\nYes.\\nWhere can we contact you?\\nYou can mail us at nitish.campusx@gmail.com\\nPayment/Registration related questions\\nWhere do we have to make our payments? Your YouTube channel or website?\\nYou have to make all your monthly payments on our website. Here is the link for our website - https://learnwith.campusx.in/\\nCan we pay the entire amount of Rs 5600 all at once?\\nUnfortunately no, the program follows a monthly subscription model.\\nWhat is the validity of monthly subscription? Suppose if I pay on 15th Jan, then do I have to pay again on 1st Feb or 15th Feb\\n15th Feb. The validity period is 30 days from the day you make the payment. So essentially you can join anytime you don’t have to wait for a month to end.\\nWhat if I don’t like the course after making the payment. What is the refund policy?\\nYou get a 7 days refund period from the day you have made the payment.\\nI am living outside India and I am not able to make the payment on the website, what should I do?\\nYou have to contact us by sending a mail at nitish.campusx@gmail.com\\nPost registration queries\\nTill when can I view the paid videos on the website?\\nThis one is tricky, so read carefully. You can watch the videos till your subscription is valid. Suppose you have purchased subscription on 21st Jan, you will be able to watch all the past paid sessions in the period of 21st Jan to 20th Feb. But after 21st Feb you will have to purchase the subscription again.\\nBut once the course is over and you have paid us Rs 5600(or 7 installments of Rs 799) you will be able to watch the paid sessions till Aug 2024.\\nWhy lifetime validity is not provided?\\nBecause of the low course fee.\\nWhere can I reach out in case of a doubt after the session?\\nYou will have to fill a google form provided in your dashboard and our team will contact you for a 1 on 1 doubt clearance session\\nIf I join the program late, can I still ask past week doubts?\\nYes, just select past week doubt in the doubt clearance google form.\\nI am living outside India and I am not able to make the payment on the website, what should I do?\\nYou have to contact us by sending a mail at nitish.campusx@gmai.com\\nCertificate and Placement Assistance related queries\\nWhat is the criteria to get the certificate?\\nThere are 2 criterias:\\nYou have to pay the entire fee of Rs 5600\\nYou have to attempt all the course assessments.\\nI am joining late. How can I pay payment of the earlier months?\\nYou will get a link to pay fee of earlier months in your dashboard once you pay for the current month.\\nI have read that Placement assistance is a part of this program. What comes under Placement assistance?\\nThis is to clarify that Placement assistance does not mean Placement guarantee. So we dont guarantee you any jobs or for that matter even interview calls. So if you are planning to join this course just for placements, I am afraid you will be disappointed. Here is what comes under placement assistance\\nPortfolio Building sessions\\nSoft skill sessions\\nSessions with industry mentors\\nDiscussion on Job hunting strategies'"
            ],
            "application/vnd.google.colaboratory.intrinsic+json": {
              "type": "string"
            }
          },
          "metadata": {},
          "execution_count": 201
        }
      ],
      "source": [
        "paths = \"/content/test_data.docs\"\n",
        "docs = \"\"\n",
        "with open(paths, 'r') as doc:\n",
        "  docs = doc.read()\n",
        "docs"
      ]
    },
    {
      "cell_type": "code",
      "source": [
        "# Need to build a dataset based on the given text, so first we need to convert this strings into integers so that our model can work on it.\n",
        "import tensorflow as tf\n",
        "from keras.preprocessing.text import Tokenizer"
      ],
      "metadata": {
        "id": "5T0jTjJtschx"
      },
      "execution_count": 202,
      "outputs": []
    },
    {
      "cell_type": "code",
      "source": [
        "tokenizer = Tokenizer()"
      ],
      "metadata": {
        "id": "eXZoQwA_t9zN"
      },
      "execution_count": 203,
      "outputs": []
    },
    {
      "cell_type": "code",
      "source": [
        "# Assigning a integer to every number\n",
        "tokenizer.fit_on_texts([docs])\n",
        "# See the tokenized words\n",
        "# tokenizer.word_index"
      ],
      "metadata": {
        "id": "Z6h10ZosuxuQ"
      },
      "execution_count": 204,
      "outputs": []
    },
    {
      "cell_type": "code",
      "source": [
        "input_seq = []\n",
        "# Separating all the sentences based on line break.\\\n",
        "for sentence in docs.split(\"\\n\"):\n",
        "  # Converting every sentence to a sequence using its designated integer values. Getting a numeric representation.\n",
        "  tokenized_sentence = tokenizer.texts_to_sequences([sentence])[0]\n",
        "\n",
        "  # Converting sequences to a dataset of given input and output\n",
        "  for i in range(1, len(tokenized_sentence)):\n",
        "    input_seq.append(tokenized_sentence[:i+1])"
      ],
      "metadata": {
        "id": "j3gtDQCQu63D"
      },
      "execution_count": 205,
      "outputs": []
    },
    {
      "cell_type": "code",
      "source": [
        "# input_seq"
      ],
      "metadata": {
        "id": "Cmxtqrd4vf_z"
      },
      "execution_count": 206,
      "outputs": []
    },
    {
      "cell_type": "code",
      "source": [
        "lengthOfLargestSeq = max([len(x) for x in input_seq])\n",
        "lengthOfLargestSeq"
      ],
      "metadata": {
        "colab": {
          "base_uri": "https://localhost:8080/"
        },
        "id": "nemesqKg50AZ",
        "outputId": "7c74f720-e786-472f-a2a8-5deb89a82375"
      },
      "execution_count": 207,
      "outputs": [
        {
          "output_type": "execute_result",
          "data": {
            "text/plain": [
              "57"
            ]
          },
          "metadata": {},
          "execution_count": 207
        }
      ]
    },
    {
      "cell_type": "code",
      "source": [
        "# Using zero padding to make every sequence equal in length, Sparse vectorization.\n",
        "from keras.preprocessing.sequence import pad_sequences\n",
        "padded_input_seq = pad_sequences(input_seq, maxlen = lengthOfLargestSeq, padding= 'pre')\n",
        "padded_input_seq"
      ],
      "metadata": {
        "colab": {
          "base_uri": "https://localhost:8080/"
        },
        "id": "-qsIwpch9Wlu",
        "outputId": "9ecafea1-51be-48cf-88b9-68f21f9173c5"
      },
      "execution_count": 208,
      "outputs": [
        {
          "output_type": "execute_result",
          "data": {
            "text/plain": [
              "array([[  0,   0,   0, ...,   0,  93,   1],\n",
              "       [  0,   0,   0, ...,  93,   1,  13],\n",
              "       [  0,   0,   0, ...,   0,  11,   7],\n",
              "       ...,\n",
              "       [  0,   0,   0, ..., 279,  18, 280],\n",
              "       [  0,   0,   0, ...,  18, 280, 281],\n",
              "       [  0,   0,   0, ..., 280, 281, 282]], dtype=int32)"
            ]
          },
          "metadata": {},
          "execution_count": 208
        }
      ]
    },
    {
      "cell_type": "code",
      "source": [
        "X = padded_input_seq[:, :-1]\n",
        "X"
      ],
      "metadata": {
        "colab": {
          "base_uri": "https://localhost:8080/"
        },
        "id": "kJwQRxT8GzQR",
        "outputId": "634a6744-7468-4038-fc32-ed02ddf1443b"
      },
      "execution_count": 209,
      "outputs": [
        {
          "output_type": "execute_result",
          "data": {
            "text/plain": [
              "array([[  0,   0,   0, ...,   0,   0,  93],\n",
              "       [  0,   0,   0, ...,   0,  93,   1],\n",
              "       [  0,   0,   0, ...,   0,   0,  11],\n",
              "       ...,\n",
              "       [  0,   0,   0, ...,   0, 279,  18],\n",
              "       [  0,   0,   0, ..., 279,  18, 280],\n",
              "       [  0,   0,   0, ...,  18, 280, 281]], dtype=int32)"
            ]
          },
          "metadata": {},
          "execution_count": 209
        }
      ]
    },
    {
      "cell_type": "code",
      "source": [
        "y = padded_input_seq[:, -1]"
      ],
      "metadata": {
        "id": "Em__MQDdHKPj"
      },
      "execution_count": 210,
      "outputs": []
    },
    {
      "cell_type": "code",
      "source": [
        "X.shape"
      ],
      "metadata": {
        "colab": {
          "base_uri": "https://localhost:8080/"
        },
        "id": "cLPcxeYjHYUa",
        "outputId": "da1e9a81-ecae-4804-a5e1-d193394a4a8c"
      },
      "execution_count": 211,
      "outputs": [
        {
          "output_type": "execute_result",
          "data": {
            "text/plain": [
              "(863, 56)"
            ]
          },
          "metadata": {},
          "execution_count": 211
        }
      ]
    },
    {
      "cell_type": "code",
      "source": [
        "y.shape"
      ],
      "metadata": {
        "colab": {
          "base_uri": "https://localhost:8080/"
        },
        "id": "uaBv-B__IByA",
        "outputId": "10aae02b-6b17-4d9c-f3f6-5425e29baed5"
      },
      "execution_count": 212,
      "outputs": [
        {
          "output_type": "execute_result",
          "data": {
            "text/plain": [
              "(863,)"
            ]
          },
          "metadata": {},
          "execution_count": 212
        }
      ]
    },
    {
      "cell_type": "code",
      "source": [
        "numOfWords = len(tokenizer.word_index)"
      ],
      "metadata": {
        "id": "Cwm8Otw3I3H-"
      },
      "execution_count": 213,
      "outputs": []
    },
    {
      "cell_type": "code",
      "source": [
        "# Using one hot encoding\n",
        "from keras.utils import to_categorical\n",
        "y = to_categorical(y, num_classes= numOfWords + 1)\n",
        "y.shape"
      ],
      "metadata": {
        "colab": {
          "base_uri": "https://localhost:8080/"
        },
        "id": "TilMHZPqIZfJ",
        "outputId": "df0d48e1-ae48-4140-c1a4-cc02e0800475"
      },
      "execution_count": 214,
      "outputs": [
        {
          "output_type": "execute_result",
          "data": {
            "text/plain": [
              "(863, 283)"
            ]
          },
          "metadata": {},
          "execution_count": 214
        }
      ]
    },
    {
      "cell_type": "markdown",
      "source": [
        "# **Building the LSTM architecture**"
      ],
      "metadata": {
        "id": "RTrty41yMQ2l"
      }
    },
    {
      "cell_type": "code",
      "source": [
        "from keras.models import Sequential\n",
        "from keras.layers import Embedding, LSTM, Dense"
      ],
      "metadata": {
        "id": "DNpclvbIMZ2G"
      },
      "execution_count": 215,
      "outputs": []
    },
    {
      "cell_type": "code",
      "source": [
        "model = Sequential()\n",
        "\n",
        "# Converting Sparse vectorization to Embedding, shape will be 100, input lenght will be the length of largest sequence -1.\n",
        "model.add(Embedding(numOfWords + 1, 100, input_length= lengthOfLargestSeq - 1))\n",
        "\n",
        "# Number of nodes in the gate of LSTM layer\n",
        "model.add(LSTM(150))\n",
        "model.add(Dense(numOfWords + 1, activation= \"softmax\"))"
      ],
      "metadata": {
        "id": "QpPFy2rzM97T"
      },
      "execution_count": 216,
      "outputs": []
    },
    {
      "cell_type": "code",
      "source": [
        "model.compile(loss=\"categorical_crossentropy\", optimizer=\"adam\", metrics=\"accuracy\")"
      ],
      "metadata": {
        "id": "AqHwGCb_OaUB"
      },
      "execution_count": 217,
      "outputs": []
    },
    {
      "cell_type": "code",
      "source": [
        "model.summary()"
      ],
      "metadata": {
        "colab": {
          "base_uri": "https://localhost:8080/"
        },
        "id": "kY7DVVscOkuX",
        "outputId": "3c32a7a9-e08d-44b9-a938-4274a4bf3610"
      },
      "execution_count": 218,
      "outputs": [
        {
          "output_type": "stream",
          "name": "stdout",
          "text": [
            "Model: \"sequential_4\"\n",
            "_________________________________________________________________\n",
            " Layer (type)                Output Shape              Param #   \n",
            "=================================================================\n",
            " embedding_4 (Embedding)     (None, 56, 100)           28300     \n",
            "                                                                 \n",
            " lstm_4 (LSTM)               (None, 150)               150600    \n",
            "                                                                 \n",
            " dense_4 (Dense)             (None, 283)               42733     \n",
            "                                                                 \n",
            "=================================================================\n",
            "Total params: 221633 (865.75 KB)\n",
            "Trainable params: 221633 (865.75 KB)\n",
            "Non-trainable params: 0 (0.00 Byte)\n",
            "_________________________________________________________________\n"
          ]
        }
      ]
    },
    {
      "cell_type": "code",
      "source": [
        "model.fit(X, y, epochs= 100)"
      ],
      "metadata": {
        "colab": {
          "base_uri": "https://localhost:8080/"
        },
        "id": "1IfwS0owOsCx",
        "outputId": "40708695-bd79-4924-c3cf-de601e84ef4b"
      },
      "execution_count": 219,
      "outputs": [
        {
          "output_type": "stream",
          "name": "stdout",
          "text": [
            "Epoch 1/100\n",
            "27/27 [==============================] - 5s 93ms/step - loss: 5.4573 - accuracy: 0.0637\n",
            "Epoch 2/100\n",
            "27/27 [==============================] - 3s 129ms/step - loss: 5.1055 - accuracy: 0.0776\n",
            "Epoch 3/100\n",
            "27/27 [==============================] - 3s 125ms/step - loss: 5.0220 - accuracy: 0.0776\n",
            "Epoch 4/100\n",
            "27/27 [==============================] - 3s 94ms/step - loss: 4.9900 - accuracy: 0.0776\n",
            "Epoch 5/100\n",
            "27/27 [==============================] - 2s 92ms/step - loss: 4.9319 - accuracy: 0.0776\n",
            "Epoch 6/100\n",
            "27/27 [==============================] - 2s 91ms/step - loss: 4.8511 - accuracy: 0.0834\n",
            "Epoch 7/100\n",
            "27/27 [==============================] - 5s 172ms/step - loss: 4.7019 - accuracy: 0.1159\n",
            "Epoch 8/100\n",
            "27/27 [==============================] - 3s 108ms/step - loss: 4.5015 - accuracy: 0.1344\n",
            "Epoch 9/100\n",
            "27/27 [==============================] - 2s 92ms/step - loss: 4.2795 - accuracy: 0.1703\n",
            "Epoch 10/100\n",
            "27/27 [==============================] - 2s 91ms/step - loss: 4.0401 - accuracy: 0.2016\n",
            "Epoch 11/100\n",
            "27/27 [==============================] - 2s 92ms/step - loss: 3.7899 - accuracy: 0.2213\n",
            "Epoch 12/100\n",
            "27/27 [==============================] - 4s 153ms/step - loss: 3.5414 - accuracy: 0.2538\n",
            "Epoch 13/100\n",
            "27/27 [==============================] - 3s 103ms/step - loss: 3.3196 - accuracy: 0.2920\n",
            "Epoch 14/100\n",
            "27/27 [==============================] - 3s 93ms/step - loss: 3.1016 - accuracy: 0.3337\n",
            "Epoch 15/100\n",
            "27/27 [==============================] - 3s 93ms/step - loss: 2.9000 - accuracy: 0.3685\n",
            "Epoch 16/100\n",
            "27/27 [==============================] - 2s 92ms/step - loss: 2.7073 - accuracy: 0.3963\n",
            "Epoch 17/100\n",
            "27/27 [==============================] - 4s 159ms/step - loss: 2.5286 - accuracy: 0.4461\n",
            "Epoch 18/100\n",
            "27/27 [==============================] - 3s 100ms/step - loss: 2.3558 - accuracy: 0.4751\n",
            "Epoch 19/100\n",
            "27/27 [==============================] - 2s 92ms/step - loss: 2.2005 - accuracy: 0.5122\n",
            "Epoch 20/100\n",
            "27/27 [==============================] - 2s 92ms/step - loss: 2.0483 - accuracy: 0.5539\n",
            "Epoch 21/100\n",
            "27/27 [==============================] - 2s 90ms/step - loss: 1.8970 - accuracy: 0.5933\n",
            "Epoch 22/100\n",
            "27/27 [==============================] - 4s 158ms/step - loss: 1.7623 - accuracy: 0.6165\n",
            "Epoch 23/100\n",
            "27/27 [==============================] - 3s 94ms/step - loss: 1.6418 - accuracy: 0.6570\n",
            "Epoch 24/100\n",
            "27/27 [==============================] - 2s 88ms/step - loss: 1.5301 - accuracy: 0.6895\n",
            "Epoch 25/100\n",
            "27/27 [==============================] - 2s 90ms/step - loss: 1.4172 - accuracy: 0.7219\n",
            "Epoch 26/100\n",
            "27/27 [==============================] - 2s 89ms/step - loss: 1.3145 - accuracy: 0.7532\n",
            "Epoch 27/100\n",
            "27/27 [==============================] - 4s 152ms/step - loss: 1.2250 - accuracy: 0.7752\n",
            "Epoch 28/100\n",
            "27/27 [==============================] - 3s 105ms/step - loss: 1.1355 - accuracy: 0.7972\n",
            "Epoch 29/100\n",
            "27/27 [==============================] - 3s 94ms/step - loss: 1.0571 - accuracy: 0.8227\n",
            "Epoch 30/100\n",
            "27/27 [==============================] - 3s 93ms/step - loss: 0.9874 - accuracy: 0.8320\n",
            "Epoch 31/100\n",
            "27/27 [==============================] - 3s 95ms/step - loss: 0.9189 - accuracy: 0.8737\n",
            "Epoch 32/100\n",
            "27/27 [==============================] - 4s 165ms/step - loss: 0.8569 - accuracy: 0.8749\n",
            "Epoch 33/100\n",
            "27/27 [==============================] - 3s 95ms/step - loss: 0.7970 - accuracy: 0.8934\n",
            "Epoch 34/100\n",
            "27/27 [==============================] - 2s 92ms/step - loss: 0.7491 - accuracy: 0.9003\n",
            "Epoch 35/100\n",
            "27/27 [==============================] - 3s 93ms/step - loss: 0.7002 - accuracy: 0.9061\n",
            "Epoch 36/100\n",
            "27/27 [==============================] - 3s 93ms/step - loss: 0.6544 - accuracy: 0.9154\n",
            "Epoch 37/100\n",
            "27/27 [==============================] - 4s 169ms/step - loss: 0.6152 - accuracy: 0.9166\n",
            "Epoch 38/100\n",
            "27/27 [==============================] - 2s 92ms/step - loss: 0.5791 - accuracy: 0.9258\n",
            "Epoch 39/100\n",
            "27/27 [==============================] - 2s 93ms/step - loss: 0.5454 - accuracy: 0.9235\n",
            "Epoch 40/100\n",
            "27/27 [==============================] - 3s 93ms/step - loss: 0.5159 - accuracy: 0.9293\n",
            "Epoch 41/100\n",
            "27/27 [==============================] - 3s 94ms/step - loss: 0.4889 - accuracy: 0.9397\n",
            "Epoch 42/100\n",
            "27/27 [==============================] - 4s 165ms/step - loss: 0.4626 - accuracy: 0.9316\n",
            "Epoch 43/100\n",
            "27/27 [==============================] - 2s 93ms/step - loss: 0.4420 - accuracy: 0.9340\n",
            "Epoch 44/100\n",
            "27/27 [==============================] - 3s 93ms/step - loss: 0.4190 - accuracy: 0.9374\n",
            "Epoch 45/100\n",
            "27/27 [==============================] - 2s 92ms/step - loss: 0.3947 - accuracy: 0.9444\n",
            "Epoch 46/100\n",
            "27/27 [==============================] - 3s 100ms/step - loss: 0.3831 - accuracy: 0.9409\n",
            "Epoch 47/100\n",
            "27/27 [==============================] - 4s 156ms/step - loss: 0.3625 - accuracy: 0.9432\n",
            "Epoch 48/100\n",
            "27/27 [==============================] - 2s 92ms/step - loss: 0.3464 - accuracy: 0.9409\n",
            "Epoch 49/100\n",
            "27/27 [==============================] - 2s 92ms/step - loss: 0.3327 - accuracy: 0.9432\n",
            "Epoch 50/100\n",
            "27/27 [==============================] - 2s 92ms/step - loss: 0.3179 - accuracy: 0.9386\n",
            "Epoch 51/100\n",
            "27/27 [==============================] - 3s 106ms/step - loss: 0.3086 - accuracy: 0.9444\n",
            "Epoch 52/100\n",
            "27/27 [==============================] - 4s 151ms/step - loss: 0.2955 - accuracy: 0.9432\n",
            "Epoch 53/100\n",
            "27/27 [==============================] - 2s 91ms/step - loss: 0.2832 - accuracy: 0.9444\n",
            "Epoch 54/100\n",
            "27/27 [==============================] - 2s 92ms/step - loss: 0.2741 - accuracy: 0.9455\n",
            "Epoch 55/100\n",
            "27/27 [==============================] - 2s 92ms/step - loss: 0.2679 - accuracy: 0.9409\n",
            "Epoch 56/100\n",
            "27/27 [==============================] - 3s 108ms/step - loss: 0.2580 - accuracy: 0.9455\n",
            "Epoch 57/100\n",
            "27/27 [==============================] - 4s 148ms/step - loss: 0.2510 - accuracy: 0.9432\n",
            "Epoch 58/100\n",
            "27/27 [==============================] - 2s 91ms/step - loss: 0.2438 - accuracy: 0.9467\n",
            "Epoch 59/100\n",
            "27/27 [==============================] - 3s 94ms/step - loss: 0.2357 - accuracy: 0.9444\n",
            "Epoch 60/100\n",
            "27/27 [==============================] - 2s 92ms/step - loss: 0.2288 - accuracy: 0.9490\n",
            "Epoch 61/100\n",
            "27/27 [==============================] - 3s 111ms/step - loss: 0.2209 - accuracy: 0.9490\n",
            "Epoch 62/100\n",
            "27/27 [==============================] - 4s 144ms/step - loss: 0.2184 - accuracy: 0.9467\n",
            "Epoch 63/100\n",
            "27/27 [==============================] - 2s 92ms/step - loss: 0.2158 - accuracy: 0.9467\n",
            "Epoch 64/100\n",
            "27/27 [==============================] - 3s 93ms/step - loss: 0.2084 - accuracy: 0.9444\n",
            "Epoch 65/100\n",
            "27/27 [==============================] - 3s 94ms/step - loss: 0.2057 - accuracy: 0.9479\n",
            "Epoch 66/100\n",
            "27/27 [==============================] - 3s 125ms/step - loss: 0.2005 - accuracy: 0.9502\n",
            "Epoch 67/100\n",
            "27/27 [==============================] - 4s 132ms/step - loss: 0.1939 - accuracy: 0.9455\n",
            "Epoch 68/100\n",
            "27/27 [==============================] - 2s 92ms/step - loss: 0.1905 - accuracy: 0.9490\n",
            "Epoch 69/100\n",
            "27/27 [==============================] - 2s 91ms/step - loss: 0.1864 - accuracy: 0.9455\n",
            "Epoch 70/100\n",
            "27/27 [==============================] - 3s 94ms/step - loss: 0.1837 - accuracy: 0.9502\n",
            "Epoch 71/100\n",
            "27/27 [==============================] - 3s 128ms/step - loss: 0.1823 - accuracy: 0.9421\n",
            "Epoch 72/100\n",
            "27/27 [==============================] - 4s 129ms/step - loss: 0.1783 - accuracy: 0.9479\n",
            "Epoch 73/100\n",
            "27/27 [==============================] - 2s 92ms/step - loss: 0.1750 - accuracy: 0.9421\n",
            "Epoch 74/100\n",
            "27/27 [==============================] - 2s 91ms/step - loss: 0.1745 - accuracy: 0.9455\n",
            "Epoch 75/100\n",
            "27/27 [==============================] - 2s 93ms/step - loss: 0.1693 - accuracy: 0.9432\n",
            "Epoch 76/100\n",
            "27/27 [==============================] - 3s 129ms/step - loss: 0.1677 - accuracy: 0.9479\n",
            "Epoch 77/100\n",
            "27/27 [==============================] - 3s 126ms/step - loss: 0.1649 - accuracy: 0.9455\n",
            "Epoch 78/100\n",
            "27/27 [==============================] - 2s 91ms/step - loss: 0.1629 - accuracy: 0.9421\n",
            "Epoch 79/100\n",
            "27/27 [==============================] - 2s 92ms/step - loss: 0.1607 - accuracy: 0.9444\n",
            "Epoch 80/100\n",
            "27/27 [==============================] - 2s 92ms/step - loss: 0.1597 - accuracy: 0.9479\n",
            "Epoch 81/100\n",
            "27/27 [==============================] - 3s 128ms/step - loss: 0.1556 - accuracy: 0.9467\n",
            "Epoch 82/100\n",
            "27/27 [==============================] - 3s 127ms/step - loss: 0.1526 - accuracy: 0.9490\n",
            "Epoch 83/100\n",
            "27/27 [==============================] - 2s 92ms/step - loss: 0.1523 - accuracy: 0.9467\n",
            "Epoch 84/100\n",
            "27/27 [==============================] - 2s 91ms/step - loss: 0.1512 - accuracy: 0.9479\n",
            "Epoch 85/100\n",
            "27/27 [==============================] - 3s 93ms/step - loss: 0.1507 - accuracy: 0.9386\n",
            "Epoch 86/100\n",
            "27/27 [==============================] - 4s 135ms/step - loss: 0.1488 - accuracy: 0.9409\n",
            "Epoch 87/100\n",
            "27/27 [==============================] - 3s 122ms/step - loss: 0.1473 - accuracy: 0.9467\n",
            "Epoch 88/100\n",
            "27/27 [==============================] - 3s 93ms/step - loss: 0.1473 - accuracy: 0.9455\n",
            "Epoch 89/100\n",
            "27/27 [==============================] - 2s 92ms/step - loss: 0.1455 - accuracy: 0.9432\n",
            "Epoch 90/100\n",
            "27/27 [==============================] - 3s 93ms/step - loss: 0.1428 - accuracy: 0.9409\n",
            "Epoch 91/100\n",
            "27/27 [==============================] - 4s 142ms/step - loss: 0.1428 - accuracy: 0.9490\n",
            "Epoch 92/100\n",
            "27/27 [==============================] - 3s 117ms/step - loss: 0.1406 - accuracy: 0.9490\n",
            "Epoch 93/100\n",
            "27/27 [==============================] - 2s 92ms/step - loss: 0.1409 - accuracy: 0.9444\n",
            "Epoch 94/100\n",
            "27/27 [==============================] - 2s 92ms/step - loss: 0.1397 - accuracy: 0.9421\n",
            "Epoch 95/100\n",
            "27/27 [==============================] - 2s 92ms/step - loss: 0.1359 - accuracy: 0.9479\n",
            "Epoch 96/100\n",
            "27/27 [==============================] - 4s 144ms/step - loss: 0.1352 - accuracy: 0.9444\n",
            "Epoch 97/100\n",
            "27/27 [==============================] - 3s 114ms/step - loss: 0.1370 - accuracy: 0.9386\n",
            "Epoch 98/100\n",
            "27/27 [==============================] - 3s 94ms/step - loss: 0.1361 - accuracy: 0.9455\n",
            "Epoch 99/100\n",
            "27/27 [==============================] - 2s 91ms/step - loss: 0.1345 - accuracy: 0.9444\n",
            "Epoch 100/100\n",
            "27/27 [==============================] - 3s 93ms/step - loss: 0.1357 - accuracy: 0.9421\n"
          ]
        },
        {
          "output_type": "execute_result",
          "data": {
            "text/plain": [
              "<keras.src.callbacks.History at 0x784bb1f4a770>"
            ]
          },
          "metadata": {},
          "execution_count": 219
        }
      ]
    },
    {
      "cell_type": "code",
      "source": [
        "import numpy as np"
      ],
      "metadata": {
        "id": "wUVwqThUbKoa"
      },
      "execution_count": 220,
      "outputs": []
    },
    {
      "cell_type": "code",
      "source": [
        "def word_predictor(text):\n",
        "  for i in range(20):\n",
        "    #tokenier\n",
        "    tokenized_text = tokenizer.texts_to_sequences([text])[0]\n",
        "    #padding\n",
        "    padded_text = pad_sequences([tokenized_text], maxlen= lengthOfLargestSeq - 1, padding= \"pre\")\n",
        "    #predict\n",
        "    position = np.argmax(model.predict(padded_text, verbose=0))\n",
        "\n",
        "    for word, index in tokenizer.word_index.items():\n",
        "      if index == position:\n",
        "        text = text + \" \" + word\n",
        "  print(text)"
      ],
      "metadata": {
        "id": "S0RPDGsyYmdY"
      },
      "execution_count": 258,
      "outputs": []
    },
    {
      "cell_type": "code",
      "source": [
        "word_predictor(\"A mail\")"
      ],
      "metadata": {
        "colab": {
          "base_uri": "https://localhost:8080/"
        },
        "id": "Ju5nKzZhfw34",
        "outputId": "c80e1f85-634e-4979-b8d8-d842edae004a"
      },
      "execution_count": 259,
      "outputs": [
        {
          "output_type": "stream",
          "name": "stdout",
          "text": [
            "A mail follows a monthly subscription model where you have to make monthly payments of rs 799 month to end month to\n"
          ]
        }
      ]
    }
  ]
}