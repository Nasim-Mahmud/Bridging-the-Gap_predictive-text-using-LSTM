{
  "nbformat": 4,
  "nbformat_minor": 0,
  "metadata": {
    "colab": {
      "provenance": [],
      "authorship_tag": "ABX9TyPUgv08RdC7HtxNmSyf7VDc",
      "include_colab_link": true
    },
    "kernelspec": {
      "name": "python3",
      "display_name": "Python 3"
    },
    "language_info": {
      "name": "python"
    }
  },
  "cells": [
    {
      "cell_type": "markdown",
      "metadata": {
        "id": "view-in-github",
        "colab_type": "text"
      },
      "source": [
        "<a href=\"https://colab.research.google.com/github/Nasim-Mahmud/LSTM-projects/blob/main/lstm_word_predictor_demo.ipynb\" target=\"_parent\"><img src=\"https://colab.research.google.com/assets/colab-badge.svg\" alt=\"Open In Colab\"/></a>"
      ]
    },
    {
      "cell_type": "code",
      "execution_count": 121,
      "metadata": {
        "colab": {
          "base_uri": "https://localhost:8080/",
          "height": 175
        },
        "id": "w1-APtPco5nk",
        "outputId": "83d724ac-dbe8-4b8d-b0b4-9fbc6dfe21f5"
      },
      "outputs": [
        {
          "output_type": "execute_result",
          "data": {
            "text/plain": [
              "'About the Program\\nWhat is the course fee for  Data Science Mentorship Program (DSMP 2023)\\nThe course follows a monthly subscription model where you have to make monthly payments of Rs 799/month.\\nWhat is the total duration of the course?\\nThe total duration of the course is 7 months. So the total course fee becomes 799*7 = Rs 5600(approx.)\\nWhat is the syllabus of the mentorship program?\\nWe will be covering the following modules:\\nPython Fundamentals\\nPython libraries for Data Science\\nData Analysis\\nSQL for Data Science\\nMaths for Machine Learning\\nML Algorithms\\nPractical ML\\nMLOPs\\nCase studies\\nYou can check the detailed syllabus here - https://learnwith.campusx.in/courses/CampusX-Data-Science-Mentorship-Program-637339afe4b0615a1bbed390\\nWill Deep Learning and NLP be a part of this program?\\nNo, NLP and Deep Learning both are not a part of this program’s curriculum.\\nWhat if I miss a live session? Will I get a recording of the session?\\nYes all our sessions are recorded, so even if you miss a session you can go back and watch the recording.\\nWhere can I find the class schedule?\\nCheckout this google sheet to see month by month time table of the course - https://docs.google.com/spreadsheets/d/16OoTax_A6ORAeCg4emgexhqqPv3noQPYKU7RJ6ArOzk/edit?usp=sharing.\\nWhat is the time duration of all the live sessions?\\nRoughly, all the sessions last 2 hours.\\nWhat is the language spoken by the instructor during the sessions?\\nHinglish\\nHow will I be informed about the upcoming class?\\nYou will get a mail from our side before every paid session once you become a paid user.\\nCan I do this course if I am from a non-tech background?\\nYes, absolutely.\\nI am late, can I join the program in the middle?\\nAbsolutely, you can join the program anytime.\\nIf I join/pay in the middle, will I be able to see all the past lectures?\\nYes, once you make the payment you will be able to see all the past content in your dashboard.\\nWhere do I have to submit the task?\\nYou don’t have to submit the task. We will provide you with the solutions, you have to self evaluate the task yourself.\\nWill we do case studies in the program?\\nYes.\\nWhere can we contact you?\\nYou can mail us at nitish.campusx@gmail.com\\nPayment/Registration related questions\\nWhere do we have to make our payments? Your YouTube channel or website?\\nYou have to make all your monthly payments on our website. Here is the link for our website - https://learnwith.campusx.in/\\nCan we pay the entire amount of Rs 5600 all at once?\\nUnfortunately no, the program follows a monthly subscription model.\\nWhat is the validity of monthly subscription? Suppose if I pay on 15th Jan, then do I have to pay again on 1st Feb or 15th Feb\\n15th Feb. The validity period is 30 days from the day you make the payment. So essentially you can join anytime you don’t have to wait for a month to end.\\nWhat if I don’t like the course after making the payment. What is the refund policy?\\nYou get a 7 days refund period from the day you have made the payment.\\nI am living outside India and I am not able to make the payment on the website, what should I do?\\nYou have to contact us by sending a mail at nitish.campusx@gmail.com\\nPost registration queries\\nTill when can I view the paid videos on the website?\\nThis one is tricky, so read carefully. You can watch the videos till your subscription is valid. Suppose you have purchased subscription on 21st Jan, you will be able to watch all the past paid sessions in the period of 21st Jan to 20th Feb. But after 21st Feb you will have to purchase the subscription again.\\nBut once the course is over and you have paid us Rs 5600(or 7 installments of Rs 799) you will be able to watch the paid sessions till Aug 2024.\\nWhy lifetime validity is not provided?\\nBecause of the low course fee.\\nWhere can I reach out in case of a doubt after the session?\\nYou will have to fill a google form provided in your dashboard and our team will contact you for a 1 on 1 doubt clearance session\\nIf I join the program late, can I still ask past week doubts?\\nYes, just select past week doubt in the doubt clearance google form.\\nI am living outside India and I am not able to make the payment on the website, what should I do?\\nYou have to contact us by sending a mail at nitish.campusx@gmai.com\\nCertificate and Placement Assistance related queries\\nWhat is the criteria to get the certificate?\\nThere are 2 criterias:\\nYou have to pay the entire fee of Rs 5600\\nYou have to attempt all the course assessments.\\nI am joining late. How can I pay payment of the earlier months?\\nYou will get a link to pay fee of earlier months in your dashboard once you pay for the current month.\\nI have read that Placement assistance is a part of this program. What comes under Placement assistance?\\nThis is to clarify that Placement assistance does not mean Placement guarantee. So we dont guarantee you any jobs or for that matter even interview calls. So if you are planning to join this course just for placements, I am afraid you will be disappointed. Here is what comes under placement assistance\\nPortfolio Building sessions\\nSoft skill sessions\\nSessions with industry mentors\\nDiscussion on Job hunting strategies'"
            ],
            "application/vnd.google.colaboratory.intrinsic+json": {
              "type": "string"
            }
          },
          "metadata": {},
          "execution_count": 121
        }
      ],
      "source": [
        "paths = \"/content/test_data.docs\"\n",
        "docs = \"\"\n",
        "with open(paths, 'r') as doc:\n",
        "  docs = doc.read()\n",
        "docs"
      ]
    },
    {
      "cell_type": "code",
      "source": [
        "# Need to build a dataset based on the given text, so first we need to convert this strings into integers so that our model can work on it.\n",
        "import tensorflow as tf\n",
        "from keras.preprocessing.text import Tokenizer"
      ],
      "metadata": {
        "id": "5T0jTjJtschx"
      },
      "execution_count": 122,
      "outputs": []
    },
    {
      "cell_type": "code",
      "source": [
        "tokenizer = Tokenizer()"
      ],
      "metadata": {
        "id": "eXZoQwA_t9zN"
      },
      "execution_count": 123,
      "outputs": []
    },
    {
      "cell_type": "code",
      "source": [
        "# Assigning a integer to every number\n",
        "tokenizer.fit_on_texts([docs])\n",
        "# See the tokenized words\n",
        "# tokenizer.word_index"
      ],
      "metadata": {
        "id": "Z6h10ZosuxuQ"
      },
      "execution_count": 124,
      "outputs": []
    },
    {
      "cell_type": "code",
      "source": [
        "input_seq = []\n",
        "# Separating all the sentences based on line break.\\\n",
        "for sentence in docs.split(\"\\n\"):\n",
        "  # Converting every sentence to a sequence using its designated integer values. Getting a numeric representation.\n",
        "  tokenized_sentence = tokenizer.texts_to_sequences([sentence])[0]\n",
        "\n",
        "  # Converting sequences to a dataset of given input and output\n",
        "  for i in range(1, len(tokenized_sentence)):\n",
        "    input_seq.append(tokenized_sentence[:i+1])"
      ],
      "metadata": {
        "id": "j3gtDQCQu63D"
      },
      "execution_count": 125,
      "outputs": []
    },
    {
      "cell_type": "code",
      "source": [
        "# input_seq"
      ],
      "metadata": {
        "id": "Cmxtqrd4vf_z"
      },
      "execution_count": 126,
      "outputs": []
    },
    {
      "cell_type": "code",
      "source": [
        "lengthOfLargestSeq = max([len(x) for x in input_seq])\n",
        "lengthOfLargestSeq"
      ],
      "metadata": {
        "colab": {
          "base_uri": "https://localhost:8080/"
        },
        "id": "nemesqKg50AZ",
        "outputId": "50830452-2b85-4246-c33f-f4ee61f8dfff"
      },
      "execution_count": 127,
      "outputs": [
        {
          "output_type": "execute_result",
          "data": {
            "text/plain": [
              "57"
            ]
          },
          "metadata": {},
          "execution_count": 127
        }
      ]
    },
    {
      "cell_type": "code",
      "source": [
        "# Using zero padding to make every sequence equal in length\n",
        "from keras.preprocessing.sequence import pad_sequences as ps\n",
        "padded_input_seq = ps(input_seq, maxlen = lengthOfLargestSeq, padding= 'pre')\n",
        "padded_input_seq"
      ],
      "metadata": {
        "colab": {
          "base_uri": "https://localhost:8080/"
        },
        "id": "-qsIwpch9Wlu",
        "outputId": "415fa451-cb0a-4e67-ed3f-23826df1c313"
      },
      "execution_count": 128,
      "outputs": [
        {
          "output_type": "execute_result",
          "data": {
            "text/plain": [
              "array([[  0,   0,   0, ...,   0,  93,   1],\n",
              "       [  0,   0,   0, ...,  93,   1,  13],\n",
              "       [  0,   0,   0, ...,   0,  11,   7],\n",
              "       ...,\n",
              "       [  0,   0,   0, ..., 279,  18, 280],\n",
              "       [  0,   0,   0, ...,  18, 280, 281],\n",
              "       [  0,   0,   0, ..., 280, 281, 282]], dtype=int32)"
            ]
          },
          "metadata": {},
          "execution_count": 128
        }
      ]
    },
    {
      "cell_type": "code",
      "source": [
        "X = padded_input_seq[:, :-1]\n",
        "X"
      ],
      "metadata": {
        "colab": {
          "base_uri": "https://localhost:8080/"
        },
        "id": "kJwQRxT8GzQR",
        "outputId": "b013c7c3-6201-4411-cf7c-f408d464733a"
      },
      "execution_count": 129,
      "outputs": [
        {
          "output_type": "execute_result",
          "data": {
            "text/plain": [
              "array([[  0,   0,   0, ...,   0,   0,  93],\n",
              "       [  0,   0,   0, ...,   0,  93,   1],\n",
              "       [  0,   0,   0, ...,   0,   0,  11],\n",
              "       ...,\n",
              "       [  0,   0,   0, ...,   0, 279,  18],\n",
              "       [  0,   0,   0, ..., 279,  18, 280],\n",
              "       [  0,   0,   0, ...,  18, 280, 281]], dtype=int32)"
            ]
          },
          "metadata": {},
          "execution_count": 129
        }
      ]
    },
    {
      "cell_type": "code",
      "source": [
        "y = padded_input_seq[:, -1]"
      ],
      "metadata": {
        "id": "Em__MQDdHKPj"
      },
      "execution_count": 130,
      "outputs": []
    },
    {
      "cell_type": "code",
      "source": [
        "X.shape"
      ],
      "metadata": {
        "colab": {
          "base_uri": "https://localhost:8080/"
        },
        "id": "cLPcxeYjHYUa",
        "outputId": "2b4f70bc-500d-46f5-da69-8f5f50840516"
      },
      "execution_count": 131,
      "outputs": [
        {
          "output_type": "execute_result",
          "data": {
            "text/plain": [
              "(863, 56)"
            ]
          },
          "metadata": {},
          "execution_count": 131
        }
      ]
    },
    {
      "cell_type": "code",
      "source": [
        "y.shape"
      ],
      "metadata": {
        "colab": {
          "base_uri": "https://localhost:8080/"
        },
        "id": "uaBv-B__IByA",
        "outputId": "70d0f585-e431-4289-9484-5fcc2754235c"
      },
      "execution_count": 132,
      "outputs": [
        {
          "output_type": "execute_result",
          "data": {
            "text/plain": [
              "(863,)"
            ]
          },
          "metadata": {},
          "execution_count": 132
        }
      ]
    },
    {
      "cell_type": "code",
      "source": [
        "numOfUniqueWords = len(tokenizer.word_index)"
      ],
      "metadata": {
        "id": "Cwm8Otw3I3H-"
      },
      "execution_count": 133,
      "outputs": []
    },
    {
      "cell_type": "code",
      "source": [
        "# Using one hot encoding\n",
        "from keras.utils import to_categorical\n",
        "y = to_categorical(y, num_classes= numOfUniqueWords + 1)\n",
        "y.shape"
      ],
      "metadata": {
        "colab": {
          "base_uri": "https://localhost:8080/"
        },
        "id": "TilMHZPqIZfJ",
        "outputId": "9613573d-55b9-4813-8c5a-37305973b7a9"
      },
      "execution_count": 134,
      "outputs": [
        {
          "output_type": "execute_result",
          "data": {
            "text/plain": [
              "(863, 283)"
            ]
          },
          "metadata": {},
          "execution_count": 134
        }
      ]
    }
  ]
}